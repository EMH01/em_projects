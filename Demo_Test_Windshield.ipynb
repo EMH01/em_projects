{
  "nbformat": 4,
  "nbformat_minor": 0,
  "metadata": {
    "colab": {
      "provenance": []
    },
    "kernelspec": {
      "name": "python3",
      "display_name": "Python 3"
    },
    "language_info": {
      "name": "python"
    }
  },
  "cells": [
    {
      "cell_type": "code",
      "execution_count": 1,
      "metadata": {
        "colab": {
          "base_uri": "https://localhost:8080/"
        },
        "id": "-uY8fn7W7GQE",
        "outputId": "1a7d1735-5bb7-4a75-ba2d-a5503e211b72"
      },
      "outputs": [
        {
          "output_type": "stream",
          "name": "stdout",
          "text": [
            "Requirement already satisfied: openai in /usr/local/lib/python3.11/dist-packages (1.59.6)\n",
            "Requirement already satisfied: anyio<5,>=3.5.0 in /usr/local/lib/python3.11/dist-packages (from openai) (3.7.1)\n",
            "Requirement already satisfied: distro<2,>=1.7.0 in /usr/local/lib/python3.11/dist-packages (from openai) (1.9.0)\n",
            "Requirement already satisfied: httpx<1,>=0.23.0 in /usr/local/lib/python3.11/dist-packages (from openai) (0.28.1)\n",
            "Requirement already satisfied: jiter<1,>=0.4.0 in /usr/local/lib/python3.11/dist-packages (from openai) (0.8.2)\n",
            "Requirement already satisfied: pydantic<3,>=1.9.0 in /usr/local/lib/python3.11/dist-packages (from openai) (2.10.5)\n",
            "Requirement already satisfied: sniffio in /usr/local/lib/python3.11/dist-packages (from openai) (1.3.1)\n",
            "Requirement already satisfied: tqdm>4 in /usr/local/lib/python3.11/dist-packages (from openai) (4.67.1)\n",
            "Requirement already satisfied: typing-extensions<5,>=4.11 in /usr/local/lib/python3.11/dist-packages (from openai) (4.12.2)\n",
            "Requirement already satisfied: idna>=2.8 in /usr/local/lib/python3.11/dist-packages (from anyio<5,>=3.5.0->openai) (3.10)\n",
            "Requirement already satisfied: certifi in /usr/local/lib/python3.11/dist-packages (from httpx<1,>=0.23.0->openai) (2024.12.14)\n",
            "Requirement already satisfied: httpcore==1.* in /usr/local/lib/python3.11/dist-packages (from httpx<1,>=0.23.0->openai) (1.0.7)\n",
            "Requirement already satisfied: h11<0.15,>=0.13 in /usr/local/lib/python3.11/dist-packages (from httpcore==1.*->httpx<1,>=0.23.0->openai) (0.14.0)\n",
            "Requirement already satisfied: annotated-types>=0.6.0 in /usr/local/lib/python3.11/dist-packages (from pydantic<3,>=1.9.0->openai) (0.7.0)\n",
            "Requirement already satisfied: pydantic-core==2.27.2 in /usr/local/lib/python3.11/dist-packages (from pydantic<3,>=1.9.0->openai) (2.27.2)\n"
          ]
        }
      ],
      "source": [
        "!pip install openai"
      ]
    },
    {
      "cell_type": "code",
      "source": [
        "from openai import OpenAI\n",
        "from google.colab import userdata\n"
      ],
      "metadata": {
        "id": "Cp6Rifbb8_1m"
      },
      "execution_count": 12,
      "outputs": []
    },
    {
      "cell_type": "code",
      "source": [
        "client = OpenAI(api_key=userdata.get('OPENAI_API_KEY'))"
      ],
      "metadata": {
        "id": "wYGdbAuc9VBh"
      },
      "execution_count": 13,
      "outputs": []
    },
    {
      "cell_type": "code",
      "source": [
        "#Enlaces de imagenes buenas\n",
        "url_1 = \"https://www.romacarabs.com/wp-content/uploads/2024/07/Parabrisas.jpg\"\n",
        "url_2 = \"https://soymotor.com/sites/default/files/usuarios/redaccion/portal/ralonso/mantenimiento-limpieza-luna-parabrisas-coche-soymotor-limpio.jpg\"\n",
        "# Enlaces a imagenes con parabrisas roto\n",
        "url_3 = \"https://telemundoaustin.com/resources/media2/16x9/full/1015/center/80/79f0d33a-8334-4bf0-9dd1-9c7857a5c16c-large16x9_image20230926T211212.034.png\"\n",
        "url_4 = \"https://s1.ppllstatics.com/lasprovincias/www/multimedia/2023/09/21/142017662-U70822523619hBD-U90193451241yaD-1248x900@Las%20Provincias-LasProvincias-R1Rj6k7BQJF6kIRqGi60SpO-1200x840@Las%20Provincias.jpeg\""
      ],
      "metadata": {
        "id": "-qcPYDs5ANPI"
      },
      "execution_count": 14,
      "outputs": []
    },
    {
      "cell_type": "code",
      "source": [
        "response = client.chat.completions.create(\n",
        "    model=\"gpt-4o-mini\",\n",
        "    messages=[\n",
        "        {\n",
        "            \"role\": \"user\",\n",
        "            \"content\": [\n",
        "                {\n",
        "                    \"type\": \"text\",\n",
        "                    \"text\": \"\"\"I will provide you with two reference images: one of a windshield in good condition and one of a broken windshield.\n",
        "                    Then, I will provide you with an image to analyze and determine whether the windshield is in bad shape or not, and explain why.\n",
        "                    \\nThe output should be with the structure:\n",
        "                    Condition'swindshield: <Bad or Good>\n",
        "                    Details: <if condition is bad explain why it is, else explain 'The windshield to evaluate is in good condition> \"\"\",\n",
        "                },\n",
        "                {\n",
        "                    \"type\": \"image_url\",\n",
        "                    \"image_url\": {\n",
        "                        \"url\": url_1,\n",
        "                    },\n",
        "                },\n",
        "                {\n",
        "                    \"type\": \"image_url\",\n",
        "                    \"image_url\": {\n",
        "                        \"url\": url_3,\n",
        "                    },\n",
        "                },\n",
        "\n",
        "                {\n",
        "                    \"type\": \"image_url\",\n",
        "                    \"image_url\": {\n",
        "                        \"url\": url_4,\n",
        "                    },\n",
        "                },\n",
        "            ],\n",
        "        }\n",
        "    ],\n",
        "    max_tokens=300,\n",
        ")\n"
      ],
      "metadata": {
        "id": "S1nyK7Nd9WOn"
      },
      "execution_count": 18,
      "outputs": []
    },
    {
      "cell_type": "code",
      "source": [
        "print((response.choices[0].message).content)"
      ],
      "metadata": {
        "colab": {
          "base_uri": "https://localhost:8080/"
        },
        "id": "b4nsKwUJBvh4",
        "outputId": "4ccf3874-4d5e-4e13-9505-735ed4b40613"
      },
      "execution_count": 22,
      "outputs": [
        {
          "output_type": "stream",
          "name": "stdout",
          "text": [
            "Condition's windshield: Bad  \n",
            "Details: The windshield in the evaluated image has significant cracks and damage, including spider-web-like patterns and shattered sections. This level of damage impairs visibility and structural integrity, categorizing it as in bad condition.\n"
          ]
        }
      ]
    }
  ]
}